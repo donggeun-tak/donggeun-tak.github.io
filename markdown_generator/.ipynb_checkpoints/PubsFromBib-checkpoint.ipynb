{
 "cells": [
  {
   "cell_type": "markdown",
   "metadata": {},
   "source": [
    "# Publications markdown generator for academicpages\n",
    "\n",
    "Takes a set of bibtex of publications and converts them for use with [academicpages.github.io](academicpages.github.io). This is an interactive Jupyter notebook ([see more info here](http://jupyter-notebook-beginner-guide.readthedocs.io/en/latest/what_is_jupyter.html)). \n",
    "\n",
    "The core python code is also in `pubsFromBibs.py`. \n",
    "Run either from the `markdown_generator` folder after replacing updating the publist dictionary with:\n",
    "* bib file names\n",
    "* specific venue keys based on your bib file preferences\n",
    "* any specific pre-text for specific files\n",
    "* Collection Name (future feature)\n",
    "\n",
    "TODO: Make this work with other databases of citations, \n",
    "TODO: Merge this with the existing TSV parsing solution"
   ]
  },
  {
   "cell_type": "code",
   "execution_count": 6,
   "metadata": {},
   "outputs": [],
   "source": [
    "from pybtex.database.input import bibtex\n",
    "import pybtex.database.input.bibtex \n",
    "from time import strptime\n",
    "import string\n",
    "import html\n",
    "import os\n",
    "import re"
   ]
  },
  {
   "cell_type": "code",
   "execution_count": 7,
   "metadata": {},
   "outputs": [],
   "source": [
    "#todo: incorporate different collection types rather than a catch all publications, requires other changes to template\n",
    "publist = {\n",
    "    \"journal\":{\n",
    "        \"file\": \"mine.bib\",\n",
    "        \"venuekey\" : \"journal\",\n",
    "        \"venue-pretext\" : \"\",\n",
    "        \"collection\" : {\"name\":\"publications\",\n",
    "                        \"permalink\":\"/publication/\"}\n",
    "    } \n",
    "}"
   ]
  },
  {
   "cell_type": "code",
   "execution_count": 8,
   "metadata": {},
   "outputs": [],
   "source": [
    "html_escape_table = {\n",
    "    \"&\": \"&amp;\",\n",
    "    '\"': \"&quot;\",\n",
    "    \"'\": \"&apos;\"\n",
    "    }\n",
    "\n",
    "def html_escape(text):\n",
    "    \"\"\"Produce entities within text.\"\"\"\n",
    "    return \"\".join(html_escape_table.get(c,c) for c in text)"
   ]
  },
  {
   "cell_type": "code",
   "execution_count": 39,
   "metadata": {},
   "outputs": [
    {
     "data": {
      "text/plain": [
       "OrderedCaseInsensitiveDict([('title', '{Multiple Components in the Broadband {\\\\ensuremath{\\\\gamma}}-Ray Emission of the Short GRB 160709A}'), ('journal', '\\\\apj'), ('keywords', 'gamma-ray burst: individual: GRB 160709A, Astrophysics - High Energy Astrophysical Phenomena'), ('year', '2019'), ('month', 'May'), ('volume', '876'), ('number', '1'), ('eid', '76'), ('pages', '76'), ('doi', '10.3847/1538-4357/ab0e72'), ('archivePrefix', 'arXiv'), ('eprint', '1910.05420'), ('primaryClass', 'astro-ph.HE'), ('adsurl', 'https://ui.adsabs.harvard.edu/abs/2019ApJ...876...76T'), ('adsnote', 'Provided by the SAO/NASA Astrophysics Data System')])"
      ]
     },
     "execution_count": 39,
     "metadata": {},
     "output_type": "execute_result"
    }
   ],
   "source": [
    "b"
   ]
  },
  {
   "cell_type": "code",
   "execution_count": 59,
   "metadata": {},
   "outputs": [
    {
     "data": {
      "text/plain": [
       "'10.3847/1538-4357/ab0e72'"
      ]
     },
     "execution_count": 59,
     "metadata": {},
     "output_type": "execute_result"
    }
   ],
   "source": [
    "b[\"doi\"]"
   ]
  },
  {
   "cell_type": "code",
   "execution_count": 62,
   "metadata": {},
   "outputs": [
    {
     "name": "stdout",
     "output_type": "stream",
     "text": [
      "* Impact of Ejecta Temperature and Mass on the Strength of Heavy Element Signatures in Kilonovae\n",
      "*D. Tak, Z. Uhm, and J. Gillanders, 2024, ApJ, 967, 54([ADS](https://ui.adsabs.harvard.edu/abs/2024ApJ...967...54T/abstract))<span class=\"__dimensions_badge_embed__\" data-doi=\"10.3847/1538-4357/ad3af4\" data-style=\"small_rectangle\"></span><script async src=\"https://badge.dimensions.ai/badge.js\" charset=\"utf-8\"></script>*\n",
      "* Exploring the Impact of the Ejecta Velocity Profile on the Evolution of Kilonova: Diversity of the Kilonova Lightcurves\n",
      "*D. Tak, Z. Uhm, and J. Gillanders, 2023, ApJ, 958, 121([ADS](https://ui.adsabs.harvard.edu/abs/2023ApJ...958..121T/abstract))<span class=\"__dimensions_badge_embed__\" data-doi=\"10.3847/1538-4357/ad06b0\" data-style=\"small_rectangle\"></span><script async src=\"https://badge.dimensions.ai/badge.js\" charset=\"utf-8\"></script>*\n",
      "* Temporal and Spectral Evolution of Gamma-Ray Burst Broad Pulses: Identification of High-latitude Emission in the Prompt Emission\n",
      "*D. Tak, Z. Uhm, J. Racusin et. al.,, 2023, ApJ, 949, 110([ADS](https://ui.adsabs.harvard.edu/abs/2023ApJ...949..110T/abstract))<span class=\"__dimensions_badge_embed__\" data-doi=\"10.3847/1538-4357/acc581\" data-style=\"small_rectangle\"></span><script async src=\"https://badge.dimensions.ai/badge.js\" charset=\"utf-8\"></script>*\n",
      "* Search for Ultraheavy Dark Matter from Observations of Dwarf Spheroidal Galaxies with VERITAS\n",
      "*A. Acharyya, A. Archer, P. Bangale et. al.,, 2023, ApJ, 945, 101([ADS](https://ui.adsabs.harvard.edu/abs/2023ApJ...945..101A/abstract))<span class=\"__dimensions_badge_embed__\" data-doi=\"10.3847/1538-4357/acbc7b\" data-style=\"small_rectangle\"></span><script async src=\"https://badge.dimensions.ai/badge.js\" charset=\"utf-8\"></script>*\n",
      "* Current and Future Gamma-Ray Searches for Dark Matter Annihilation Beyond the Unitarity Limit\n",
      "*D. Tak, M. Baumgart, N. Rodd et. al.,, 2022, ApJ, 938, L4([ADS](https://ui.adsabs.harvard.edu/abs/2022ApJ...938L...4T/abstract))<span class=\"__dimensions_badge_embed__\" data-doi=\"10.3847/2041-8213/ac9387\" data-style=\"small_rectangle\"></span><script async src=\"https://badge.dimensions.ai/badge.js\" charset=\"utf-8\"></script>*\n",
      "* Fermi and Swift Observations of GRB 190114C: Tracing the Evolution of High-energy Emission from Prompt to Afterglow\n",
      "*M. Ajello, M. Arimoto, M. Axelsson et. al.,, 2020, ApJ, 890, 9([ADS](https://ui.adsabs.harvard.edu/abs/2020ApJ...890....9A/abstract))<span class=\"__dimensions_badge_embed__\" data-doi=\"10.3847/1538-4357/ab5b05\" data-style=\"small_rectangle\"></span><script async src=\"https://badge.dimensions.ai/badge.js\" charset=\"utf-8\"></script>*\n",
      "* Bright Gamma-Ray Flares Observed in GRB 131108A\n",
      "*M. Ajello, M. Arimoto, K. Asano et. al.,, 2019, ApJ, 886, L33([ADS](https://ui.adsabs.harvard.edu/abs/2019ApJ...886L..33A/abstract))<span class=\"__dimensions_badge_embed__\" data-doi=\"10.3847/2041-8213/ab564f\" data-style=\"small_rectangle\"></span><script async src=\"https://badge.dimensions.ai/badge.js\" charset=\"utf-8\"></script>*\n",
      "* Closure Relations of Gamma-Ray Bursts in High Energy Emission\n",
      "*D. Tak, N. Omodei, Z. Uhm et. al.,, 2019, ApJ, 883, 134([ADS](https://ui.adsabs.harvard.edu/abs/2019ApJ...883..134T/abstract))<span class=\"__dimensions_badge_embed__\" data-doi=\"10.3847/1538-4357/ab3982\" data-style=\"small_rectangle\"></span><script async src=\"https://badge.dimensions.ai/badge.js\" charset=\"utf-8\"></script>*\n",
      "* Multiple Components in the Broadband Gamma-Ray Emission of the Short GRB 160709A\n",
      "*D. Tak, S. Guiriec, Z. Uhm et. al.,, 2019, ApJ, 876, 76([ADS](https://ui.adsabs.harvard.edu/abs/2019ApJ...876...76T/abstract))<span class=\"__dimensions_badge_embed__\" data-doi=\"10.3847/1538-4357/ab0e72\" data-style=\"small_rectangle\"></span><script async src=\"https://badge.dimensions.ai/badge.js\" charset=\"utf-8\"></script>*\n"
     ]
    }
   ],
   "source": [
    "\n",
    "for pubsource in publist:\n",
    "    parser = bibtex.Parser()\n",
    "    bibdata = parser.parse_file(publist[pubsource][\"file\"])\n",
    "\n",
    "    #loop through the individual references in a given bibtex file\n",
    "    for bib_id in bibdata.entries:\n",
    "        string = \"*\"\n",
    "        #reset default date\n",
    "        pub_year = \"1900\"\n",
    "        pub_month = \"01\"\n",
    "        pub_day = \"01\"\n",
    "        \n",
    "        b = bibdata.entries[bib_id].fields\n",
    "        title ='* '+b[\"title\"][1:-1]\n",
    "        title = title.replace(\"{\\ensuremath{\\gamma}}\", \"Gamma\")+\"   \"\n",
    "        print(title)\n",
    "        n_authors = len(bibdata.entries[bib_id].persons[\"author\"])\n",
    "        for i, author in enumerate(bibdata.entries[bib_id].persons[\"author\"]):\n",
    "            \n",
    "            if i<2:\n",
    "                string+=author.first_names[0][0]+\". \"+author.last_names[0][1:-1]+\", \"\n",
    "            elif i == 2 and n_authors == 3:\n",
    "                string+=\"and \"+author.first_names[0][0]+\". \"+author.last_names[0][1:-1]\n",
    "            elif i== 2:\n",
    "                string+=author.first_names[0][0]+\". \"+author.last_names[0][1:-1]+\" et. al.,\"\n",
    "                break\n",
    "        if \"apj\" in b[\"journal\"]:\n",
    "            journal = \"ApJ\"\n",
    "        string+=\", \"+b[\"year\"]+\", \"+journal+\", \"+b[\"volume\"]+\", \"+b[\"pages\"]+\"*   \"\n",
    "        print(string)\n",
    "        \n",
    "        additional+f\"*[ADS](https://ui.adsabs.harvard.edu/abs/{bib_id}/abstract), \"\n",
    "        string+=f'<span class=\"__dimensions_badge_embed__\" data-doi=\"{b[\"doi\"]}\" data-style=\"small_rectangle\"></span><script async src=\"https://badge.dimensions.ai/badge.js\" charset=\"utf-8\"></script>*'\n",
    "        print(string, )"
   ]
  },
  {
   "cell_type": "code",
   "execution_count": 14,
   "metadata": {},
   "outputs": [
    {
     "data": {
      "text/plain": [
       "'{Impact of Ejecta Temperature and Mass on the Strength of Heavy Element Signatures in Kilonovae}'"
      ]
     },
     "execution_count": 14,
     "metadata": {},
     "output_type": "execute_result"
    }
   ],
   "source": [
    "b[\"title\"]"
   ]
  },
  {
   "cell_type": "code",
   "execution_count": 9,
   "metadata": {
    "scrolled": false
   },
   "outputs": [
    {
     "name": "stdout",
     "output_type": "stream",
     "text": [
      "SUCESSFULLY PARSED 2024ApJ...967...54T: \" {Impact of Ejecta Temperature and Mass on the Strength of He ... \"\n",
      "SUCESSFULLY PARSED 2023ApJ...958..121T: \" {Exploring the Impact of the Ejecta Velocity Profile on the  ... \"\n",
      "SUCESSFULLY PARSED 2023ApJ...949..110T: \" {Temporal and Spectral Evolution of Gamma-Ray Burst Broad Pu ... \"\n",
      "SUCESSFULLY PARSED 2023ApJ...945..101A: \" {Search for Ultraheavy Dark Matter from Observations of Dwar ... \"\n",
      "SUCESSFULLY PARSED 2022ApJ...938L...4T: \" {Current and Future {\\ensuremath{\\gamma}}-Ray Searches for D ... \"\n",
      "SUCESSFULLY PARSED 2020ApJ...890....9A: \" {Fermi and Swift Observations of GRB 190114C: Tracing the Ev ... \"\n",
      "SUCESSFULLY PARSED 2019ApJ...886L..33A: \" {Bright Gamma-Ray Flares Observed in GRB 131108A}  \"\n",
      "SUCESSFULLY PARSED 2019ApJ...883..134T: \" {Closure Relations of Gamma-Ray Bursts in High Energy Emissi ... \"\n",
      "SUCESSFULLY PARSED 2019ApJ...876...76T: \" {Multiple Components in the Broadband {\\ensuremath{\\gamma}}- ... \"\n"
     ]
    }
   ],
   "source": [
    "for pubsource in publist:\n",
    "    parser = bibtex.Parser()\n",
    "    bibdata = parser.parse_file(publist[pubsource][\"file\"])\n",
    "\n",
    "    #loop through the individual references in a given bibtex file\n",
    "    for bib_id in bibdata.entries:\n",
    "        #reset default date\n",
    "        pub_year = \"1900\"\n",
    "        pub_month = \"01\"\n",
    "        pub_day = \"01\"\n",
    "        \n",
    "        b = bibdata.entries[bib_id].fields\n",
    "        \n",
    "        try:\n",
    "            pub_year = f'{b[\"year\"]}'\n",
    "\n",
    "            #todo: this hack for month and day needs some cleanup\n",
    "            if \"month\" in b.keys(): \n",
    "                if(len(b[\"month\"])<3):\n",
    "                    pub_month = \"0\"+b[\"month\"]\n",
    "                    pub_month = pub_month[-2:]\n",
    "                elif(b[\"month\"] not in range(12)):\n",
    "                    tmnth = strptime(b[\"month\"][:3],'%b').tm_mon   \n",
    "                    pub_month = \"{:02d}\".format(tmnth) \n",
    "                else:\n",
    "                    pub_month = str(b[\"month\"])\n",
    "            if \"day\" in b.keys(): \n",
    "                pub_day = str(b[\"day\"])\n",
    "\n",
    "                \n",
    "            pub_date = pub_year+\"-\"+pub_month+\"-\"+pub_day\n",
    "            \n",
    "            #strip out {} as needed (some bibtex entries that maintain formatting)\n",
    "            clean_title = b[\"title\"].replace(\"{\", \"\").replace(\"}\",\"\").replace(\"\\\\\",\"\").replace(\" \",\"-\")    \n",
    "\n",
    "            url_slug = re.sub(\"\\\\[.*\\\\]|[^a-zA-Z0-9_-]\", \"\", clean_title)\n",
    "            url_slug = url_slug.replace(\"--\",\"-\")\n",
    "\n",
    "            md_filename = (str(pub_date) + \"-\" + url_slug + \".md\").replace(\"--\",\"-\")\n",
    "            html_filename = (str(pub_date) + \"-\" + url_slug).replace(\"--\",\"-\")\n",
    "\n",
    "            #Build Citation from text\n",
    "            citation = \"\"\n",
    "\n",
    "            #citation authors - todo - add highlighting for primary author?\n",
    "            for author in bibdata.entries[bib_id].persons[\"author\"]:\n",
    "                citation = citation+\" \"+author.first_names[0]+\" \"+author.last_names[0]+\", \"\n",
    "\n",
    "            #citation title\n",
    "            citation = citation + \"\\\"\" + html_escape(b[\"title\"].replace(\"{\", \"\").replace(\"}\",\"\").replace(\"\\\\\",\"\")) + \".\\\"\"\n",
    "\n",
    "            #add venue logic depending on citation type\n",
    "            venue = publist[pubsource][\"venue-pretext\"]+b[publist[pubsource][\"venuekey\"]].replace(\"{\", \"\").replace(\"}\",\"\").replace(\"\\\\\",\"\")\n",
    "\n",
    "            citation = citation + \" \" + html_escape(venue)\n",
    "            citation = citation + \", \" + pub_year + \".\"\n",
    "\n",
    "            \n",
    "            ## YAML variables\n",
    "            md = \"---\\ntitle: \\\"\"   + html_escape(b[\"title\"].replace(\"{\", \"\").replace(\"}\",\"\").replace(\"\\\\\",\"\")) + '\"\\n'\n",
    "            \n",
    "            md += \"\"\"collection: \"\"\" +  publist[pubsource][\"collection\"][\"name\"]\n",
    "\n",
    "            md += \"\"\"\\npermalink: \"\"\" + publist[pubsource][\"collection\"][\"permalink\"]  + html_filename\n",
    "            \n",
    "            note = False\n",
    "            if \"note\" in b.keys():\n",
    "                if len(str(b[\"note\"])) > 5:\n",
    "                    md += \"\\nexcerpt: '\" + html_escape(b[\"note\"]) + \"'\"\n",
    "                    note = True\n",
    "\n",
    "            md += \"\\ndate: \" + str(pub_date) \n",
    "\n",
    "            md += \"\\nvenue: '\" + html_escape(venue) + \"'\"\n",
    "            \n",
    "            url = False\n",
    "            if \"url\" in b.keys():\n",
    "                if len(str(b[\"url\"])) > 5:\n",
    "                    md += \"\\npaperurl: '\" + b[\"url\"] + \"'\"\n",
    "                    url = True\n",
    "\n",
    "            md += \"\\ncitation: '\" + html_escape(citation) + \"'\"\n",
    "\n",
    "            md += \"\\n---\"\n",
    "\n",
    "            \n",
    "            ## Markdown description for individual page\n",
    "            if note:\n",
    "                md += \"\\n\" + html_escape(b[\"note\"]) + \"\\n\"\n",
    "\n",
    "            if url:\n",
    "                md += \"\\n[Access paper here](\" + b[\"url\"] + \"){:target=\\\"_blank\\\"}\\n\" \n",
    "            else:\n",
    "                md += \"\\nUse [Google Scholar](https://scholar.google.com/scholar?q=\"+html.escape(clean_title.replace(\"-\",\"+\"))+\"){:target=\\\"_blank\\\"} for full citation\"\n",
    "\n",
    "            md_filename = os.path.basename(md_filename)\n",
    "\n",
    "            with open(\"../_publications/\" + md_filename, 'w', encoding=\"utf-8\") as f:\n",
    "                f.write(md)\n",
    "            print(f'SUCESSFULLY PARSED {bib_id}: \\\"', b[\"title\"][:60],\"...\"*(len(b['title'])>60),\"\\\"\")\n",
    "        # field may not exist for a reference\n",
    "        except KeyError as e:\n",
    "            print(f'WARNING Missing Expected Field {e} from entry {bib_id}: \\\"', b[\"title\"][:30],\"...\"*(len(b['title'])>30),\"\\\"\")\n",
    "            continue\n"
   ]
  },
  {
   "cell_type": "code",
   "execution_count": null,
   "metadata": {},
   "outputs": [],
   "source": []
  }
 ],
 "metadata": {
  "kernelspec": {
   "display_name": "Python 3 (ipykernel)",
   "language": "python",
   "name": "python3"
  },
  "language_info": {
   "codemirror_mode": {
    "name": "ipython",
    "version": 3
   },
   "file_extension": ".py",
   "mimetype": "text/x-python",
   "name": "python",
   "nbconvert_exporter": "python",
   "pygments_lexer": "ipython3",
   "version": "3.10.6"
  }
 },
 "nbformat": 4,
 "nbformat_minor": 2
}
